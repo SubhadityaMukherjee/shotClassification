{
 "cells": [
  {
   "cell_type": "code",
   "execution_count": 1,
   "id": "operating-negative",
   "metadata": {
    "execution": {
     "iopub.execute_input": "2021-06-19T09:32:47.223907Z",
     "iopub.status.busy": "2021-06-19T09:32:47.223754Z",
     "iopub.status.idle": "2021-06-19T09:32:47.428525Z",
     "shell.execute_reply": "2021-06-19T09:32:47.428105Z",
     "shell.execute_reply.started": "2021-06-19T09:32:47.223844Z"
    }
   },
   "outputs": [],
   "source": [
    "%load_ext autoreload\n",
    "%autoreload 2\n",
    "\n",
    "%matplotlib inline\n",
    "\n",
    "import os\n",
    "os.environ['TORCH_HOME'] = \"/media/hdd/Datasets/\"\n",
    "import sys\n",
    "sys.path.append(\"/media/hdd/github/sprintdl/\")"
   ]
  },
  {
   "cell_type": "code",
   "execution_count": 2,
   "id": "offensive-documentary",
   "metadata": {
    "execution": {
     "iopub.execute_input": "2021-06-19T09:32:47.429851Z",
     "iopub.status.busy": "2021-06-19T09:32:47.429640Z",
     "iopub.status.idle": "2021-06-19T09:32:50.704467Z",
     "shell.execute_reply": "2021-06-19T09:32:50.704028Z",
     "shell.execute_reply.started": "2021-06-19T09:32:47.429802Z"
    }
   },
   "outputs": [],
   "source": [
    "from sprintdl.main import *\n",
    "import sprintdl"
   ]
  },
  {
   "cell_type": "code",
   "execution_count": 3,
   "id": "under-pennsylvania",
   "metadata": {
    "execution": {
     "iopub.execute_input": "2021-06-19T09:32:50.705108Z",
     "iopub.status.busy": "2021-06-19T09:32:50.705003Z",
     "iopub.status.idle": "2021-06-19T09:32:50.719863Z",
     "shell.execute_reply": "2021-06-19T09:32:50.719432Z",
     "shell.execute_reply.started": "2021-06-19T09:32:50.705094Z"
    }
   },
   "outputs": [],
   "source": [
    "device = torch.device('cuda',0)\n",
    "from torch.nn import init\n",
    "import torch\n",
    "import math"
   ]
  },
  {
   "cell_type": "code",
   "execution_count": 4,
   "id": "difficult-patent",
   "metadata": {
    "execution": {
     "iopub.execute_input": "2021-06-19T09:32:50.720769Z",
     "iopub.status.busy": "2021-06-19T09:32:50.720659Z",
     "iopub.status.idle": "2021-06-19T09:32:50.737129Z",
     "shell.execute_reply": "2021-06-19T09:32:50.736728Z",
     "shell.execute_reply.started": "2021-06-19T09:32:50.720756Z"
    }
   },
   "outputs": [],
   "source": [
    "from sprintdl.models.xresnet import *"
   ]
  },
  {
   "cell_type": "markdown",
   "id": "functional-memorial",
   "metadata": {},
   "source": [
    "# Define required"
   ]
  },
  {
   "cell_type": "code",
   "execution_count": 5,
   "id": "beginning-romania",
   "metadata": {
    "execution": {
     "iopub.execute_input": "2021-06-19T09:32:50.737808Z",
     "iopub.status.busy": "2021-06-19T09:32:50.737702Z",
     "iopub.status.idle": "2021-06-19T09:32:50.753127Z",
     "shell.execute_reply": "2021-06-19T09:32:50.752731Z",
     "shell.execute_reply.started": "2021-06-19T09:32:50.737794Z"
    }
   },
   "outputs": [],
   "source": [
    "fpath = Path(\"/media/hdd/Datasets/shotclassification/\")\n",
    "tfms = [make_rgb,to_byte_tensor,to_float_tensor, ResizeFixed(128)]\n",
    "bs = 64"
   ]
  },
  {
   "cell_type": "markdown",
   "id": "progressive-opera",
   "metadata": {},
   "source": [
    "# Dataset stuff"
   ]
  },
  {
   "cell_type": "markdown",
   "id": "confidential-democracy",
   "metadata": {},
   "source": [
    "# Converting json to csv\n",
    "- only required path and label"
   ]
  },
  {
   "cell_type": "code",
   "execution_count": 6,
   "id": "liberal-jacob",
   "metadata": {
    "execution": {
     "iopub.execute_input": "2021-06-19T09:32:50.753779Z",
     "iopub.status.busy": "2021-06-19T09:32:50.753675Z",
     "iopub.status.idle": "2021-06-19T09:32:50.769231Z",
     "shell.execute_reply": "2021-06-19T09:32:50.768892Z",
     "shell.execute_reply.started": "2021-06-19T09:32:50.753766Z"
    }
   },
   "outputs": [],
   "source": [
    "import json"
   ]
  },
  {
   "cell_type": "code",
   "execution_count": 7,
   "id": "brown-variance",
   "metadata": {
    "execution": {
     "iopub.execute_input": "2021-06-19T09:32:50.770829Z",
     "iopub.status.busy": "2021-06-19T09:32:50.770681Z",
     "iopub.status.idle": "2021-06-19T09:32:50.840493Z",
     "shell.execute_reply": "2021-06-19T09:32:50.840123Z",
     "shell.execute_reply.started": "2021-06-19T09:32:50.770815Z"
    }
   },
   "outputs": [],
   "source": [
    "with open(fpath/\"v1_full_trailer.json\", \"r\") as f:\n",
    "    label_json = json.load(f)"
   ]
  },
  {
   "cell_type": "code",
   "execution_count": 8,
   "id": "animated-police",
   "metadata": {
    "execution": {
     "iopub.execute_input": "2021-06-19T09:32:50.841403Z",
     "iopub.status.busy": "2021-06-19T09:32:50.841293Z",
     "iopub.status.idle": "2021-06-19T09:32:50.900610Z",
     "shell.execute_reply": "2021-06-19T09:32:50.899831Z",
     "shell.execute_reply.started": "2021-06-19T09:32:50.841388Z"
    }
   },
   "outputs": [
    {
     "data": {
      "text/plain": [
       "{'0014': {'scale': {'label': 'CS', 'value': 1},\n",
       "  'movement': {'label': 'Static', 'value': 4}},\n",
       " '0015': {'scale': {'label': 'CS', 'value': 1},\n",
       "  'movement': {'label': 'Static', 'value': 4}},\n",
       " '0016': {'scale': {'label': 'ECS', 'value': 0},\n",
       "  'movement': {'label': 'Static', 'value': 4}}}"
      ]
     },
     "execution_count": 8,
     "metadata": {},
     "output_type": "execute_result"
    }
   ],
   "source": [
    "label_json['tt0444850']"
   ]
  },
  {
   "cell_type": "code",
   "execution_count": 9,
   "id": "thirty-profit",
   "metadata": {
    "execution": {
     "iopub.execute_input": "2021-06-19T09:32:50.901825Z",
     "iopub.status.busy": "2021-06-19T09:32:50.901619Z",
     "iopub.status.idle": "2021-06-19T09:32:50.918960Z",
     "shell.execute_reply": "2021-06-19T09:32:50.918463Z",
     "shell.execute_reply.started": "2021-06-19T09:32:50.901799Z"
    }
   },
   "outputs": [],
   "source": [
    "key_lis = list(label_json.keys())"
   ]
  },
  {
   "cell_type": "code",
   "execution_count": 10,
   "id": "checked-malaysia",
   "metadata": {
    "execution": {
     "iopub.execute_input": "2021-06-19T09:32:50.919816Z",
     "iopub.status.busy": "2021-06-19T09:32:50.919635Z",
     "iopub.status.idle": "2021-06-19T09:32:51.140093Z",
     "shell.execute_reply": "2021-06-19T09:32:51.139660Z",
     "shell.execute_reply.started": "2021-06-19T09:32:50.919799Z"
    }
   },
   "outputs": [],
   "source": [
    "label_dic = {}\n",
    "for key in key_lis:\n",
    "    inner = label_json[key]\n",
    "    in_keys = list(inner.keys())\n",
    "    out_k = [(fpath/f\"trailer/{key}/shot_{k}.mp4\",inner[k][\"scale\"][\"label\"]) for k in in_keys]\n",
    "    for x in out_k:\n",
    "        label_dic[x[0]] =x[1]"
   ]
  },
  {
   "cell_type": "code",
   "execution_count": 11,
   "id": "insured-admission",
   "metadata": {
    "execution": {
     "iopub.execute_input": "2021-06-19T09:32:51.140762Z",
     "iopub.status.busy": "2021-06-19T09:32:51.140655Z",
     "iopub.status.idle": "2021-06-19T09:32:52.455444Z",
     "shell.execute_reply": "2021-06-19T09:32:52.454898Z",
     "shell.execute_reply.started": "2021-06-19T09:32:51.140748Z"
    }
   },
   "outputs": [
    {
     "data": {
      "text/html": [
       "<div>\n",
       "<style scoped>\n",
       "    .dataframe tbody tr th:only-of-type {\n",
       "        vertical-align: middle;\n",
       "    }\n",
       "\n",
       "    .dataframe tbody tr th {\n",
       "        vertical-align: top;\n",
       "    }\n",
       "\n",
       "    .dataframe thead th {\n",
       "        text-align: right;\n",
       "    }\n",
       "</style>\n",
       "<table border=\"1\" class=\"dataframe\">\n",
       "  <thead>\n",
       "    <tr style=\"text-align: right;\">\n",
       "      <th></th>\n",
       "      <th>fpath</th>\n",
       "      <th>label</th>\n",
       "    </tr>\n",
       "  </thead>\n",
       "  <tbody>\n",
       "    <tr>\n",
       "      <th>0</th>\n",
       "      <td>/media/hdd/Datasets/shotclassification/trailer...</td>\n",
       "      <td>CS</td>\n",
       "    </tr>\n",
       "    <tr>\n",
       "      <th>1</th>\n",
       "      <td>/media/hdd/Datasets/shotclassification/trailer...</td>\n",
       "      <td>CS</td>\n",
       "    </tr>\n",
       "    <tr>\n",
       "      <th>2</th>\n",
       "      <td>/media/hdd/Datasets/shotclassification/trailer...</td>\n",
       "      <td>ECS</td>\n",
       "    </tr>\n",
       "  </tbody>\n",
       "</table>\n",
       "</div>"
      ],
      "text/plain": [
       "                                               fpath label\n",
       "0  /media/hdd/Datasets/shotclassification/trailer...    CS\n",
       "1  /media/hdd/Datasets/shotclassification/trailer...    CS\n",
       "2  /media/hdd/Datasets/shotclassification/trailer...   ECS"
      ]
     },
     "execution_count": 11,
     "metadata": {},
     "output_type": "execute_result"
    }
   ],
   "source": [
    "key_df = pd.DataFrame(label_dic, index = [1]).T.reset_index()\n",
    "key_df.columns = [\"fpath\",\"label\"]\n",
    "key_df.head(3)"
   ]
  },
  {
   "cell_type": "code",
   "execution_count": 12,
   "id": "twenty-protein",
   "metadata": {
    "execution": {
     "iopub.execute_input": "2021-06-19T09:32:52.456418Z",
     "iopub.status.busy": "2021-06-19T09:32:52.456303Z",
     "iopub.status.idle": "2021-06-19T09:32:52.475391Z",
     "shell.execute_reply": "2021-06-19T09:32:52.474962Z",
     "shell.execute_reply.started": "2021-06-19T09:32:52.456404Z"
    }
   },
   "outputs": [
    {
     "data": {
      "text/plain": [
       "array(['CS', 'ECS', 'MS', 'FS', 'LS'], dtype=object)"
      ]
     },
     "execution_count": 12,
     "metadata": {},
     "output_type": "execute_result"
    }
   ],
   "source": [
    "key_df.label.unique()"
   ]
  },
  {
   "cell_type": "code",
   "execution_count": 13,
   "id": "joined-polls",
   "metadata": {
    "execution": {
     "iopub.execute_input": "2021-06-19T09:32:52.476236Z",
     "iopub.status.busy": "2021-06-19T09:32:52.476109Z",
     "iopub.status.idle": "2021-06-19T09:32:52.498945Z",
     "shell.execute_reply": "2021-06-19T09:32:52.498495Z",
     "shell.execute_reply.started": "2021-06-19T09:32:52.476222Z"
    }
   },
   "outputs": [
    {
     "data": {
      "text/plain": [
       "5"
      ]
     },
     "execution_count": 13,
     "metadata": {},
     "output_type": "execute_result"
    }
   ],
   "source": [
    "key_df.label.nunique()"
   ]
  },
  {
   "cell_type": "code",
   "execution_count": 14,
   "id": "cardiovascular-throat",
   "metadata": {
    "execution": {
     "iopub.execute_input": "2021-06-19T09:32:52.499937Z",
     "iopub.status.busy": "2021-06-19T09:32:52.499783Z",
     "iopub.status.idle": "2021-06-19T09:32:52.617090Z",
     "shell.execute_reply": "2021-06-19T09:32:52.616602Z",
     "shell.execute_reply.started": "2021-06-19T09:32:52.499917Z"
    }
   },
   "outputs": [],
   "source": [
    "key_df.to_csv(fpath/\"labels.csv\")"
   ]
  },
  {
   "cell_type": "markdown",
   "id": "distant-preliminary",
   "metadata": {},
   "source": [
    "# Convert mp4 to images\n",
    "- since all data is in images.."
   ]
  },
  {
   "cell_type": "code",
   "execution_count": 15,
   "id": "liberal-package",
   "metadata": {
    "execution": {
     "iopub.execute_input": "2021-06-19T09:32:52.617822Z",
     "iopub.status.busy": "2021-06-19T09:32:52.617708Z",
     "iopub.status.idle": "2021-06-19T09:32:52.631870Z",
     "shell.execute_reply": "2021-06-19T09:32:52.631146Z",
     "shell.execute_reply.started": "2021-06-19T09:32:52.617808Z"
    }
   },
   "outputs": [],
   "source": [
    "import cv2"
   ]
  },
  {
   "cell_type": "code",
   "execution_count": 16,
   "id": "narrow-flavor",
   "metadata": {
    "execution": {
     "iopub.execute_input": "2021-06-19T09:32:52.632684Z",
     "iopub.status.busy": "2021-06-19T09:32:52.632557Z",
     "iopub.status.idle": "2021-06-19T09:32:52.646933Z",
     "shell.execute_reply": "2021-06-19T09:32:52.646515Z",
     "shell.execute_reply.started": "2021-06-19T09:32:52.632669Z"
    }
   },
   "outputs": [],
   "source": [
    "def conv_to_frames(fname, fpath, label):\n",
    "\n",
    "    vidcap = cv2.VideoCapture(str(fname))\n",
    "#     print(fname)\n",
    "    success,image = vidcap.read()\n",
    "    count = 0\n",
    "    while success:\n",
    "        vidcap.set(cv2.CAP_PROP_POS_MSEC,(count*1000))\n",
    "#         print(f\"{fname.parent}/frame:{count}_{label}.jpg\")\n",
    "        cv2.imwrite(f\"{fname.parent}/frame:{count}_{label}.jpg\", image)     # save frame as JPEG file      \n",
    "        success,image = vidcap.read()\n",
    "        count += 1"
   ]
  },
  {
   "cell_type": "code",
   "execution_count": 17,
   "id": "official-flooring",
   "metadata": {
    "execution": {
     "iopub.execute_input": "2021-06-19T09:32:52.647555Z",
     "iopub.status.busy": "2021-06-19T09:32:52.647448Z",
     "iopub.status.idle": "2021-06-19T09:32:52.678833Z",
     "shell.execute_reply": "2021-06-19T09:32:52.678257Z",
     "shell.execute_reply.started": "2021-06-19T09:32:52.647541Z"
    }
   },
   "outputs": [],
   "source": [
    "list_to_run = [(x[1], x[2]) for x in key_df.itertuples()]"
   ]
  },
  {
   "cell_type": "code",
   "execution_count": 18,
   "id": "imposed-islam",
   "metadata": {
    "execution": {
     "iopub.execute_input": "2021-06-19T09:32:52.679969Z",
     "iopub.status.busy": "2021-06-19T09:32:52.679773Z",
     "iopub.status.idle": "2021-06-19T09:32:52.694524Z",
     "shell.execute_reply": "2021-06-19T09:32:52.694106Z",
     "shell.execute_reply.started": "2021-06-19T09:32:52.679949Z"
    }
   },
   "outputs": [
    {
     "data": {
      "text/plain": [
       "(PosixPath('/media/hdd/Datasets/shotclassification/trailer/tt0444850/shot_0014.mp4'),\n",
       " 'CS')"
      ]
     },
     "execution_count": 18,
     "metadata": {},
     "output_type": "execute_result"
    }
   ],
   "source": [
    "list_to_run[0]"
   ]
  },
  {
   "cell_type": "code",
   "execution_count": 19,
   "id": "postal-construction",
   "metadata": {
    "execution": {
     "iopub.execute_input": "2021-06-19T09:32:52.695293Z",
     "iopub.status.busy": "2021-06-19T09:32:52.695182Z",
     "iopub.status.idle": "2021-06-19T09:32:52.707940Z",
     "shell.execute_reply": "2021-06-19T09:32:52.707537Z",
     "shell.execute_reply.started": "2021-06-19T09:32:52.695279Z"
    }
   },
   "outputs": [],
   "source": [
    "def run_splitter(key_df, *args, **kwargs):\n",
    "    fpath_name, label = key_df\n",
    "    conv_to_frames(fpath/fpath_name,fpath, label)"
   ]
  },
  {
   "cell_type": "code",
   "execution_count": 20,
   "id": "covered-particle",
   "metadata": {
    "execution": {
     "iopub.execute_input": "2021-06-19T09:32:52.708579Z",
     "iopub.status.busy": "2021-06-19T09:32:52.708472Z",
     "iopub.status.idle": "2021-06-19T09:32:52.720103Z",
     "shell.execute_reply": "2021-06-19T09:32:52.719613Z",
     "shell.execute_reply.started": "2021-06-19T09:32:52.708565Z"
    }
   },
   "outputs": [],
   "source": [
    "# parallel(run_splitter, list_to_run,max_workers=8)"
   ]
  },
  {
   "cell_type": "markdown",
   "id": "textile-andorra",
   "metadata": {},
   "source": [
    "# Actual process"
   ]
  },
  {
   "cell_type": "code",
   "execution_count": 21,
   "id": "digital-roots",
   "metadata": {
    "execution": {
     "iopub.execute_input": "2021-06-19T09:32:52.720747Z",
     "iopub.status.busy": "2021-06-19T09:32:52.720635Z",
     "iopub.status.idle": "2021-06-19T09:32:53.155843Z",
     "shell.execute_reply": "2021-06-19T09:32:53.155218Z",
     "shell.execute_reply.started": "2021-06-19T09:32:52.720733Z"
    }
   },
   "outputs": [],
   "source": [
    "il = ImageList.from_files(fpath, tfms=tfms, max = 10000)"
   ]
  },
  {
   "cell_type": "code",
   "execution_count": 22,
   "id": "liberal-clark",
   "metadata": {
    "execution": {
     "iopub.execute_input": "2021-06-19T09:32:53.156610Z",
     "iopub.status.busy": "2021-06-19T09:32:53.156508Z",
     "iopub.status.idle": "2021-06-19T09:32:53.174290Z",
     "shell.execute_reply": "2021-06-19T09:32:53.173876Z",
     "shell.execute_reply.started": "2021-06-19T09:32:53.156597Z"
    }
   },
   "outputs": [
    {
     "data": {
      "text/plain": [
       "ImageList (10000 items)\n",
       "[PosixPath('/media/hdd/Datasets/shotclassification/trailer/tt4511452/frame:1_ECS.jpg'), PosixPath('/media/hdd/Datasets/shotclassification/trailer/tt4511452/frame:2_ECS.jpg'), PosixPath('/media/hdd/Datasets/shotclassification/trailer/tt4511452/frame:1_CS.jpg'), PosixPath('/media/hdd/Datasets/shotclassification/trailer/tt4511452/frame:0_MS.jpg'), PosixPath('/media/hdd/Datasets/shotclassification/trailer/tt4511452/frame:1_MS.jpg'), PosixPath('/media/hdd/Datasets/shotclassification/trailer/tt4511452/frame:2_MS.jpg'), PosixPath('/media/hdd/Datasets/shotclassification/trailer/tt4511452/frame:0_FS.jpg'), PosixPath('/media/hdd/Datasets/shotclassification/trailer/tt4511452/frame:1_FS.jpg'), PosixPath('/media/hdd/Datasets/shotclassification/trailer/tt4511452/frame:0_CS.jpg'), PosixPath('/media/hdd/Datasets/shotclassification/trailer/tt4511452/frame:2_CS.jpg')...]\n",
       "Path: /media/hdd/Datasets/shotclassification"
      ]
     },
     "execution_count": 22,
     "metadata": {},
     "output_type": "execute_result"
    }
   ],
   "source": [
    "il"
   ]
  },
  {
   "cell_type": "code",
   "execution_count": 23,
   "id": "temporal-bikini",
   "metadata": {
    "execution": {
     "iopub.execute_input": "2021-06-19T09:32:53.174971Z",
     "iopub.status.busy": "2021-06-19T09:32:53.174867Z",
     "iopub.status.idle": "2021-06-19T09:32:53.192593Z",
     "shell.execute_reply": "2021-06-19T09:32:53.192163Z",
     "shell.execute_reply.started": "2021-06-19T09:32:53.174958Z"
    }
   },
   "outputs": [],
   "source": [
    "sd = SplitData.split_by_func(il, partial(random_splitter, p_valid = .2))"
   ]
  },
  {
   "cell_type": "code",
   "execution_count": 24,
   "id": "earlier-murder",
   "metadata": {
    "execution": {
     "iopub.execute_input": "2021-06-19T09:32:53.193207Z",
     "iopub.status.busy": "2021-06-19T09:32:53.193102Z",
     "iopub.status.idle": "2021-06-19T09:32:53.207999Z",
     "shell.execute_reply": "2021-06-19T09:32:53.207643Z",
     "shell.execute_reply.started": "2021-06-19T09:32:53.193193Z"
    }
   },
   "outputs": [
    {
     "data": {
      "text/plain": [
       "SplitData\n",
       "Train: ImageList (7996 items)\n",
       "[PosixPath('/media/hdd/Datasets/shotclassification/trailer/tt4511452/frame:1_ECS.jpg'), PosixPath('/media/hdd/Datasets/shotclassification/trailer/tt4511452/frame:2_ECS.jpg'), PosixPath('/media/hdd/Datasets/shotclassification/trailer/tt4511452/frame:1_CS.jpg'), PosixPath('/media/hdd/Datasets/shotclassification/trailer/tt4511452/frame:0_MS.jpg'), PosixPath('/media/hdd/Datasets/shotclassification/trailer/tt4511452/frame:1_MS.jpg'), PosixPath('/media/hdd/Datasets/shotclassification/trailer/tt4511452/frame:2_MS.jpg'), PosixPath('/media/hdd/Datasets/shotclassification/trailer/tt4511452/frame:0_FS.jpg'), PosixPath('/media/hdd/Datasets/shotclassification/trailer/tt4511452/frame:2_FS.jpg'), PosixPath('/media/hdd/Datasets/shotclassification/trailer/tt3721936/frame:1_ECS.jpg'), PosixPath('/media/hdd/Datasets/shotclassification/trailer/tt3721936/frame:2_ECS.jpg')...]\n",
       "Path: /media/hdd/Datasets/shotclassification\n",
       "Valid: ImageList (2004 items)\n",
       "[PosixPath('/media/hdd/Datasets/shotclassification/trailer/tt4511452/frame:1_FS.jpg'), PosixPath('/media/hdd/Datasets/shotclassification/trailer/tt4511452/frame:0_CS.jpg'), PosixPath('/media/hdd/Datasets/shotclassification/trailer/tt4511452/frame:2_CS.jpg'), PosixPath('/media/hdd/Datasets/shotclassification/trailer/tt4511452/frame:0_ECS.jpg'), PosixPath('/media/hdd/Datasets/shotclassification/trailer/tt3721936/frame:2_MS.jpg'), PosixPath('/media/hdd/Datasets/shotclassification/trailer/tt3721936/frame:0_FS.jpg'), PosixPath('/media/hdd/Datasets/shotclassification/trailer/tt3721936/frame:1_FS.jpg'), PosixPath('/media/hdd/Datasets/shotclassification/trailer/tt4976984/frame:4_FS.jpg'), PosixPath('/media/hdd/Datasets/shotclassification/trailer/tt4976984/frame:0_CS.jpg'), PosixPath('/media/hdd/Datasets/shotclassification/trailer/tt4976984/frame:3_CS.jpg')...]\n",
       "Path: /media/hdd/Datasets/shotclassification"
      ]
     },
     "execution_count": 24,
     "metadata": {},
     "output_type": "execute_result"
    }
   ],
   "source": [
    "sd"
   ]
  },
  {
   "cell_type": "code",
   "execution_count": 25,
   "id": "standing-ocean",
   "metadata": {
    "execution": {
     "iopub.execute_input": "2021-06-19T09:32:53.209705Z",
     "iopub.status.busy": "2021-06-19T09:32:53.209590Z",
     "iopub.status.idle": "2021-06-19T09:32:53.226812Z",
     "shell.execute_reply": "2021-06-19T09:32:53.226482Z",
     "shell.execute_reply.started": "2021-06-19T09:32:53.209691Z"
    }
   },
   "outputs": [
    {
     "data": {
      "text/plain": [
       "'ECS'"
      ]
     },
     "execution_count": 25,
     "metadata": {},
     "output_type": "execute_result"
    }
   ],
   "source": [
    "Path(Path('/media/hdd/Datasets/shotclassification/trailer/tt4511452/frame:1_ECS.jpg').name.split(\"_\")[-1]).stem"
   ]
  },
  {
   "cell_type": "code",
   "execution_count": 26,
   "id": "cellular-classics",
   "metadata": {
    "execution": {
     "iopub.execute_input": "2021-06-19T09:32:53.227604Z",
     "iopub.status.busy": "2021-06-19T09:32:53.227493Z",
     "iopub.status.idle": "2021-06-19T09:32:53.314919Z",
     "shell.execute_reply": "2021-06-19T09:32:53.314424Z",
     "shell.execute_reply.started": "2021-06-19T09:32:53.227590Z"
    }
   },
   "outputs": [],
   "source": [
    "ll = label_by_func(sd, lambda x:Path(Path(x).name.split(\"_\")[-1]).stem , proc_y=CategoryProcessor())"
   ]
  },
  {
   "cell_type": "code",
   "execution_count": 27,
   "id": "empirical-cowboy",
   "metadata": {
    "execution": {
     "iopub.execute_input": "2021-06-19T09:32:53.315630Z",
     "iopub.status.busy": "2021-06-19T09:32:53.315514Z",
     "iopub.status.idle": "2021-06-19T09:32:53.330111Z",
     "shell.execute_reply": "2021-06-19T09:32:53.329780Z",
     "shell.execute_reply.started": "2021-06-19T09:32:53.315615Z"
    }
   },
   "outputs": [
    {
     "data": {
      "text/plain": [
       "5"
      ]
     },
     "execution_count": 27,
     "metadata": {},
     "output_type": "execute_result"
    }
   ],
   "source": [
    "n_classes = len(set(ll.train.y.items));n_classes"
   ]
  },
  {
   "cell_type": "code",
   "execution_count": 28,
   "id": "billion-proceeding",
   "metadata": {
    "execution": {
     "iopub.execute_input": "2021-06-19T09:32:53.330786Z",
     "iopub.status.busy": "2021-06-19T09:32:53.330671Z",
     "iopub.status.idle": "2021-06-19T09:32:53.343783Z",
     "shell.execute_reply": "2021-06-19T09:32:53.343341Z",
     "shell.execute_reply.started": "2021-06-19T09:32:53.330772Z"
    }
   },
   "outputs": [],
   "source": [
    "data = ll.to_databunch(bs, c_in=3, c_out=n_classes)"
   ]
  },
  {
   "cell_type": "code",
   "execution_count": 29,
   "id": "restricted-dialogue",
   "metadata": {
    "execution": {
     "iopub.execute_input": "2021-06-19T09:32:53.344432Z",
     "iopub.status.busy": "2021-06-19T09:32:53.344323Z",
     "iopub.status.idle": "2021-06-19T09:32:53.565469Z",
     "shell.execute_reply": "2021-06-19T09:32:53.564968Z",
     "shell.execute_reply.started": "2021-06-19T09:32:53.344418Z"
    }
   },
   "outputs": [
    {
     "data": {
      "image/png": "[encoded data removed]",
      "text/plain": [
       "<Figure size 864x216 with 4 Axes>"
      ]
     },
     "metadata": {
      "needs_background": "light"
     },
     "output_type": "display_data"
    }
   ],
   "source": [
    "show_batch(data, 4)"
   ]
  },
  {
   "cell_type": "markdown",
   "id": "mineral-faculty",
   "metadata": {},
   "source": [
    "# Training"
   ]
  },
  {
   "cell_type": "code",
   "execution_count": 30,
   "id": "chicken-triple",
   "metadata": {
    "execution": {
     "iopub.execute_input": "2021-06-19T09:32:53.566308Z",
     "iopub.status.busy": "2021-06-19T09:32:53.566167Z",
     "iopub.status.idle": "2021-06-19T09:32:53.581169Z",
     "shell.execute_reply": "2021-06-19T09:32:53.580480Z",
     "shell.execute_reply.started": "2021-06-19T09:32:53.566281Z"
    }
   },
   "outputs": [],
   "source": [
    "lr = 1e-4\n",
    "pct_start = 0.5\n",
    "phases = create_phases(pct_start)\n",
    "sched_lr  = combine_scheds(phases, cos_1cycle_anneal(lr/10., lr, lr/1e5))\n",
    "sched_mom = combine_scheds(phases, cos_1cycle_anneal(0.95, 0.85, 0.95))\n",
    "\n",
    "cbfs = [\n",
    "    partial(AvgStatsCallback,accuracy),\n",
    "    partial(ParamScheduler, 'lr', sched_lr),\n",
    "#     partial(ParamScheduler, 'mom', sched_mom),\n",
    "    partial(BatchTransformXCallback, norm_imagenette),\n",
    "    ProgressCallback,\n",
    "    Recorder,\n",
    "    OverSampling,\n",
    "    GradientClipping,\n",
    "#     MixUp,\n",
    "       partial(CudaCallback, device)]\n",
    "\n",
    "loss_func=LabelSmoothingCrossEntropy()\n",
    "opt_func = adam_opt(mom=0.9, mom_sqr=0.99, eps=1e-6, wd=1e-2)"
   ]
  },
  {
   "cell_type": "code",
   "execution_count": 31,
   "id": "tribal-fraction",
   "metadata": {
    "execution": {
     "iopub.execute_input": "2021-06-19T09:32:53.582057Z",
     "iopub.status.busy": "2021-06-19T09:32:53.581907Z",
     "iopub.status.idle": "2021-06-19T09:32:53.597487Z",
     "shell.execute_reply": "2021-06-19T09:32:53.596694Z",
     "shell.execute_reply.started": "2021-06-19T09:32:53.582035Z"
    }
   },
   "outputs": [],
   "source": [
    "from sprintdl.models.efficientnet import *"
   ]
  },
  {
   "cell_type": "code",
   "execution_count": 32,
   "id": "entitled-disco",
   "metadata": {
    "execution": {
     "iopub.execute_input": "2021-06-19T09:32:53.598559Z",
     "iopub.status.busy": "2021-06-19T09:32:53.598338Z",
     "iopub.status.idle": "2021-06-19T09:32:53.612770Z",
     "shell.execute_reply": "2021-06-19T09:32:53.612248Z",
     "shell.execute_reply.started": "2021-06-19T09:32:53.598539Z"
    }
   },
   "outputs": [],
   "source": [
    "# arch = partial(xresnet18, c_out =n_classes)()\n",
    "# clear_memory()"
   ]
  },
  {
   "cell_type": "code",
   "execution_count": 33,
   "id": "variable-california",
   "metadata": {
    "execution": {
     "iopub.execute_input": "2021-06-19T09:32:53.613687Z",
     "iopub.status.busy": "2021-06-19T09:32:53.613552Z",
     "iopub.status.idle": "2021-06-19T09:32:53.830336Z",
     "shell.execute_reply": "2021-06-19T09:32:53.829814Z",
     "shell.execute_reply.started": "2021-06-19T09:32:53.613671Z"
    }
   },
   "outputs": [
    {
     "name": "stdout",
     "output_type": "stream",
     "text": [
      "Loaded pretrained weights for efficientnet-b3\n"
     ]
    }
   ],
   "source": [
    "arch = efficientnet(num_classes=n_classes, pretrained=True)"
   ]
  },
  {
   "cell_type": "code",
   "execution_count": 34,
   "id": "useful-tiger",
   "metadata": {
    "execution": {
     "iopub.execute_input": "2021-06-19T09:32:53.831203Z",
     "iopub.status.busy": "2021-06-19T09:32:53.831049Z",
     "iopub.status.idle": "2021-06-19T09:34:34.567663Z",
     "shell.execute_reply": "2021-06-19T09:34:34.567147Z",
     "shell.execute_reply.started": "2021-06-19T09:32:53.831182Z"
    }
   },
   "outputs": [
    {
     "data": {
      "text/html": [
       "\n",
       "    <div>\n",
       "        <style>\n",
       "            /* Turns off some styling */\n",
       "            progress {\n",
       "                /* gets rid of default border in Firefox and Opera. */\n",
       "                border: none;\n",
       "                /* Needs to be in here for Safari polyfill so background images work as expected. */\n",
       "                background-size: auto;\n",
       "            }\n",
       "            .progress-bar-interrupted, .progress-bar-interrupted::-webkit-progress-bar {\n",
       "                background: #F44336;\n",
       "            }\n",
       "        </style>\n",
       "      <progress value='0' class='' max='2' style='width:300px; height:20px; vertical-align: middle;'></progress>\n",
       "      \n",
       "    </div>\n",
       "    \n"
      ],
      "text/plain": [
       "<IPython.core.display.HTML object>"
      ]
     },
     "metadata": {},
     "output_type": "display_data"
    },
    {
     "data": {
      "text/html": [
       "<table border=\"1\" class=\"dataframe\">\n",
       "  <thead>\n",
       "    <tr style=\"text-align: left;\">\n",
       "      <th>epoch</th>\n",
       "      <th>train_loss</th>\n",
       "      <th>train_accuracy</th>\n",
       "      <th>valid_loss</th>\n",
       "      <th>valid_accuracy</th>\n",
       "      <th>time</th>\n",
       "    </tr>\n",
       "  </thead>\n",
       "  <tbody>\n",
       "    <tr>\n",
       "      <td>0</td>\n",
       "      <td>1.435427</td>\n",
       "      <td>0.416083</td>\n",
       "      <td>1.064239</td>\n",
       "      <td>0.669162</td>\n",
       "      <td>00:49</td>\n",
       "    </tr>\n",
       "    <tr>\n",
       "      <td>1</td>\n",
       "      <td>0.929897</td>\n",
       "      <td>0.725488</td>\n",
       "      <td>0.887965</td>\n",
       "      <td>0.740519</td>\n",
       "      <td>00:50</td>\n",
       "    </tr>\n",
       "  </tbody>\n",
       "</table>"
      ],
      "text/plain": [
       "<IPython.core.display.HTML object>"
      ]
     },
     "metadata": {},
     "output_type": "display_data"
    },
    {
     "name": "stdout",
     "output_type": "stream",
     "text": [
      "Pruning: 130\n",
      "Pruning: 130\n"
     ]
    }
   ],
   "source": [
    "clear_memory()\n",
    "learn = Learner(arch, data, loss_func, lr=lr, cb_funcs=cbfs+[PruningCallback], opt_func=opt_func)\n",
    "learn.fit(2)"
   ]
  },
  {
   "cell_type": "code",
   "execution_count": 35,
   "id": "incoming-captain",
   "metadata": {
    "execution": {
     "iopub.execute_input": "2021-06-19T09:34:34.592435Z",
     "iopub.status.busy": "2021-06-19T09:34:34.592279Z",
     "iopub.status.idle": "2021-06-19T09:45:04.188498Z",
     "shell.execute_reply": "2021-06-19T09:45:04.187975Z",
     "shell.execute_reply.started": "2021-06-19T09:34:34.592416Z"
    }
   },
   "outputs": [
    {
     "data": {
      "text/html": [
       "\n",
       "    <div>\n",
       "        <style>\n",
       "            /* Turns off some styling */\n",
       "            progress {\n",
       "                /* gets rid of default border in Firefox and Opera. */\n",
       "                border: none;\n",
       "                /* Needs to be in here for Safari polyfill so background images work as expected. */\n",
       "                background-size: auto;\n",
       "            }\n",
       "            .progress-bar-interrupted, .progress-bar-interrupted::-webkit-progress-bar {\n",
       "                background: #F44336;\n",
       "            }\n",
       "        </style>\n",
       "      <progress value='0' class='' max='20' style='width:300px; height:20px; vertical-align: middle;'></progress>\n",
       "      \n",
       "    </div>\n",
       "    \n"
      ],
      "text/plain": [
       "<IPython.core.display.HTML object>"
      ]
     },
     "metadata": {},
     "output_type": "display_data"
    },
    {
     "data": {
      "text/html": [
       "<table border=\"1\" class=\"dataframe\">\n",
       "  <thead>\n",
       "    <tr style=\"text-align: left;\">\n",
       "      <th>epoch</th>\n",
       "      <th>train_loss</th>\n",
       "      <th>train_accuracy</th>\n",
       "      <th>valid_loss</th>\n",
       "      <th>valid_accuracy</th>\n",
       "      <th>time</th>\n",
       "    </tr>\n",
       "  </thead>\n",
       "  <tbody>\n",
       "    <tr>\n",
       "      <td>0</td>\n",
       "      <td>0.937359</td>\n",
       "      <td>0.729990</td>\n",
       "      <td>0.970509</td>\n",
       "      <td>0.722056</td>\n",
       "      <td>00:50</td>\n",
       "    </tr>\n",
       "    <tr>\n",
       "      <td>1</td>\n",
       "      <td>1.098955</td>\n",
       "      <td>0.657329</td>\n",
       "      <td>1.233681</td>\n",
       "      <td>0.599800</td>\n",
       "      <td>00:52</td>\n",
       "    </tr>\n",
       "    <tr>\n",
       "      <td>2</td>\n",
       "      <td>1.198274</td>\n",
       "      <td>0.586043</td>\n",
       "      <td>1.329818</td>\n",
       "      <td>0.501497</td>\n",
       "      <td>00:51</td>\n",
       "    </tr>\n",
       "    <tr>\n",
       "      <td>3</td>\n",
       "      <td>1.213486</td>\n",
       "      <td>0.570035</td>\n",
       "      <td>1.442482</td>\n",
       "      <td>0.379741</td>\n",
       "      <td>00:52</td>\n",
       "    </tr>\n",
       "    <tr>\n",
       "      <td>4</td>\n",
       "      <td>1.240088</td>\n",
       "      <td>0.564032</td>\n",
       "      <td>1.607889</td>\n",
       "      <td>0.187126</td>\n",
       "      <td>00:50</td>\n",
       "    </tr>\n",
       "    <tr>\n",
       "      <td>5</td>\n",
       "      <td>1.279988</td>\n",
       "      <td>0.514507</td>\n",
       "      <td>1.659580</td>\n",
       "      <td>0.178643</td>\n",
       "      <td>00:52</td>\n",
       "    </tr>\n",
       "    <tr>\n",
       "      <td>6</td>\n",
       "      <td>1.400332</td>\n",
       "      <td>0.431841</td>\n",
       "      <td>1.645271</td>\n",
       "      <td>0.235529</td>\n",
       "      <td>00:52</td>\n",
       "    </tr>\n",
       "    <tr>\n",
       "      <td>7</td>\n",
       "      <td>1.535703</td>\n",
       "      <td>0.332666</td>\n",
       "      <td>1.610169</td>\n",
       "      <td>0.211078</td>\n",
       "      <td>00:53</td>\n",
       "    </tr>\n",
       "    <tr>\n",
       "      <td>8</td>\n",
       "      <td>1.603534</td>\n",
       "      <td>0.226488</td>\n",
       "      <td>1.605616</td>\n",
       "      <td>0.207086</td>\n",
       "      <td>00:52</td>\n",
       "    </tr>\n",
       "    <tr>\n",
       "      <td>9</td>\n",
       "      <td>1.612930</td>\n",
       "      <td>0.207479</td>\n",
       "      <td>1.602780</td>\n",
       "      <td>0.258483</td>\n",
       "      <td>00:52</td>\n",
       "    </tr>\n",
       "    <tr>\n",
       "      <td>10</td>\n",
       "      <td>1.610187</td>\n",
       "      <td>0.216858</td>\n",
       "      <td>1.597157</td>\n",
       "      <td>0.258483</td>\n",
       "      <td>00:52</td>\n",
       "    </tr>\n",
       "    <tr>\n",
       "      <td>11</td>\n",
       "      <td>1.609718</td>\n",
       "      <td>0.223237</td>\n",
       "      <td>1.599466</td>\n",
       "      <td>0.258483</td>\n",
       "      <td>00:51</td>\n",
       "    </tr>\n",
       "  </tbody>\n",
       "</table>"
      ],
      "text/plain": [
       "<IPython.core.display.HTML object>"
      ]
     },
     "metadata": {},
     "output_type": "display_data"
    },
    {
     "name": "stdout",
     "output_type": "stream",
     "text": [
      "Pruning: 130\n",
      "Pruning: 130\n",
      "Pruning: 130\n",
      "Pruning: 130\n",
      "Pruning: 130\n",
      "Pruning: 130\n",
      "Pruning: 130\n",
      "Pruning: 130\n",
      "Pruning: 130\n",
      "Pruning: 130\n",
      "Pruning: 130\n",
      "Pruning: 130\n",
      "Pruning: 130\n"
     ]
    },
    {
     "ename": "KeyboardInterrupt",
     "evalue": "",
     "output_type": "error",
     "traceback": [
      "\u001b[0;31m---------------------------------------------------------------------------\u001b[0m",
      "\u001b[0;31mKeyboardInterrupt\u001b[0m                         Traceback (most recent call last)",
      "\u001b[0;32m<ipython-input-35-bc407cc35d81>\u001b[0m in \u001b[0;36m<module>\u001b[0;34m\u001b[0m\n\u001b[0;32m----> 1\u001b[0;31m \u001b[0mlearn\u001b[0m\u001b[0;34m.\u001b[0m\u001b[0mfit\u001b[0m\u001b[0;34m(\u001b[0m\u001b[0;36m20\u001b[0m\u001b[0;34m)\u001b[0m\u001b[0;34m\u001b[0m\u001b[0;34m\u001b[0m\u001b[0m\n\u001b[0m",
      "\u001b[0;32m/media/hdd/github/sprintdl/sprintdl/core.py\u001b[0m in \u001b[0;36mfit\u001b[0;34m(self, epochs, cbs, reset_opt)\u001b[0m\n\u001b[1;32m    200\u001b[0m             \u001b[0;32mfor\u001b[0m \u001b[0mepoch\u001b[0m \u001b[0;32min\u001b[0m \u001b[0mrange\u001b[0m\u001b[0;34m(\u001b[0m\u001b[0mepochs\u001b[0m\u001b[0;34m)\u001b[0m\u001b[0;34m:\u001b[0m\u001b[0;34m\u001b[0m\u001b[0;34m\u001b[0m\u001b[0m\n\u001b[1;32m    201\u001b[0m                 \u001b[0;32mif\u001b[0m \u001b[0;32mnot\u001b[0m \u001b[0mself\u001b[0m\u001b[0;34m.\u001b[0m\u001b[0mdo_begin_epoch\u001b[0m\u001b[0;34m(\u001b[0m\u001b[0mepoch\u001b[0m\u001b[0;34m)\u001b[0m\u001b[0;34m:\u001b[0m\u001b[0;34m\u001b[0m\u001b[0;34m\u001b[0m\u001b[0m\n\u001b[0;32m--> 202\u001b[0;31m                     \u001b[0mself\u001b[0m\u001b[0;34m.\u001b[0m\u001b[0mall_batches\u001b[0m\u001b[0;34m(\u001b[0m\u001b[0;34m)\u001b[0m\u001b[0;34m\u001b[0m\u001b[0;34m\u001b[0m\u001b[0m\n\u001b[0m\u001b[1;32m    203\u001b[0m \u001b[0;34m\u001b[0m\u001b[0m\n\u001b[1;32m    204\u001b[0m                 \u001b[0;32mwith\u001b[0m \u001b[0mtorch\u001b[0m\u001b[0;34m.\u001b[0m\u001b[0mno_grad\u001b[0m\u001b[0;34m(\u001b[0m\u001b[0;34m)\u001b[0m\u001b[0;34m:\u001b[0m\u001b[0;34m\u001b[0m\u001b[0;34m\u001b[0m\u001b[0m\n",
      "\u001b[0;32m/media/hdd/github/sprintdl/sprintdl/core.py\u001b[0m in \u001b[0;36mall_batches\u001b[0;34m(self)\u001b[0m\n\u001b[1;32m    150\u001b[0m         \u001b[0;32mtry\u001b[0m\u001b[0;34m:\u001b[0m\u001b[0;34m\u001b[0m\u001b[0;34m\u001b[0m\u001b[0m\n\u001b[1;32m    151\u001b[0m             \u001b[0;32mfor\u001b[0m \u001b[0mi\u001b[0m\u001b[0;34m,\u001b[0m \u001b[0;34m(\u001b[0m\u001b[0mxb\u001b[0m\u001b[0;34m,\u001b[0m \u001b[0myb\u001b[0m\u001b[0;34m)\u001b[0m \u001b[0;32min\u001b[0m \u001b[0menumerate\u001b[0m\u001b[0;34m(\u001b[0m\u001b[0mself\u001b[0m\u001b[0;34m.\u001b[0m\u001b[0mdl\u001b[0m\u001b[0;34m)\u001b[0m\u001b[0;34m:\u001b[0m\u001b[0;34m\u001b[0m\u001b[0;34m\u001b[0m\u001b[0m\n\u001b[0;32m--> 152\u001b[0;31m                 \u001b[0mself\u001b[0m\u001b[0;34m.\u001b[0m\u001b[0mone_batch\u001b[0m\u001b[0;34m(\u001b[0m\u001b[0mi\u001b[0m\u001b[0;34m,\u001b[0m \u001b[0mxb\u001b[0m\u001b[0;34m,\u001b[0m \u001b[0myb\u001b[0m\u001b[0;34m)\u001b[0m\u001b[0;34m\u001b[0m\u001b[0;34m\u001b[0m\u001b[0m\n\u001b[0m\u001b[1;32m    153\u001b[0m         \u001b[0;32mexcept\u001b[0m \u001b[0mCancelEpochException\u001b[0m\u001b[0;34m:\u001b[0m\u001b[0;34m\u001b[0m\u001b[0;34m\u001b[0m\u001b[0m\n\u001b[1;32m    154\u001b[0m             \u001b[0mself\u001b[0m\u001b[0;34m(\u001b[0m\u001b[0;34m\"after_cancel_epoch\"\u001b[0m\u001b[0;34m)\u001b[0m\u001b[0;34m\u001b[0m\u001b[0;34m\u001b[0m\u001b[0m\n",
      "\u001b[0;32m/media/hdd/github/sprintdl/sprintdl/core.py\u001b[0m in \u001b[0;36mone_batch\u001b[0;34m(self, i, xb, yb)\u001b[0m\n\u001b[1;32m    136\u001b[0m                 \u001b[0;32mreturn\u001b[0m\u001b[0;34m\u001b[0m\u001b[0;34m\u001b[0m\u001b[0m\n\u001b[1;32m    137\u001b[0m             \u001b[0mself\u001b[0m\u001b[0;34m(\u001b[0m\u001b[0;34m\"begin_backward\"\u001b[0m\u001b[0;34m)\u001b[0m\u001b[0;34m\u001b[0m\u001b[0;34m\u001b[0m\u001b[0m\n\u001b[0;32m--> 138\u001b[0;31m             \u001b[0mself\u001b[0m\u001b[0;34m.\u001b[0m\u001b[0mloss\u001b[0m\u001b[0;34m.\u001b[0m\u001b[0mbackward\u001b[0m\u001b[0;34m(\u001b[0m\u001b[0;34m)\u001b[0m\u001b[0;34m\u001b[0m\u001b[0;34m\u001b[0m\u001b[0m\n\u001b[0m\u001b[1;32m    139\u001b[0m             \u001b[0mself\u001b[0m\u001b[0;34m(\u001b[0m\u001b[0;34m\"after_backward\"\u001b[0m\u001b[0;34m)\u001b[0m\u001b[0;34m\u001b[0m\u001b[0;34m\u001b[0m\u001b[0m\n\u001b[1;32m    140\u001b[0m             \u001b[0mself\u001b[0m\u001b[0;34m.\u001b[0m\u001b[0mopt\u001b[0m\u001b[0;34m.\u001b[0m\u001b[0mstep\u001b[0m\u001b[0;34m(\u001b[0m\u001b[0;34m)\u001b[0m\u001b[0;34m\u001b[0m\u001b[0;34m\u001b[0m\u001b[0m\n",
      "\u001b[0;32m~/.local/lib/python3.9/site-packages/torch/tensor.py\u001b[0m in \u001b[0;36mbackward\u001b[0;34m(self, gradient, retain_graph, create_graph)\u001b[0m\n\u001b[1;32m    219\u001b[0m                 \u001b[0mretain_graph\u001b[0m\u001b[0;34m=\u001b[0m\u001b[0mretain_graph\u001b[0m\u001b[0;34m,\u001b[0m\u001b[0;34m\u001b[0m\u001b[0;34m\u001b[0m\u001b[0m\n\u001b[1;32m    220\u001b[0m                 create_graph=create_graph)\n\u001b[0;32m--> 221\u001b[0;31m         \u001b[0mtorch\u001b[0m\u001b[0;34m.\u001b[0m\u001b[0mautograd\u001b[0m\u001b[0;34m.\u001b[0m\u001b[0mbackward\u001b[0m\u001b[0;34m(\u001b[0m\u001b[0mself\u001b[0m\u001b[0;34m,\u001b[0m \u001b[0mgradient\u001b[0m\u001b[0;34m,\u001b[0m \u001b[0mretain_graph\u001b[0m\u001b[0;34m,\u001b[0m \u001b[0mcreate_graph\u001b[0m\u001b[0;34m)\u001b[0m\u001b[0;34m\u001b[0m\u001b[0;34m\u001b[0m\u001b[0m\n\u001b[0m\u001b[1;32m    222\u001b[0m \u001b[0;34m\u001b[0m\u001b[0m\n\u001b[1;32m    223\u001b[0m     \u001b[0;32mdef\u001b[0m \u001b[0mregister_hook\u001b[0m\u001b[0;34m(\u001b[0m\u001b[0mself\u001b[0m\u001b[0;34m,\u001b[0m \u001b[0mhook\u001b[0m\u001b[0;34m)\u001b[0m\u001b[0;34m:\u001b[0m\u001b[0;34m\u001b[0m\u001b[0;34m\u001b[0m\u001b[0m\n",
      "\u001b[0;32m~/.local/lib/python3.9/site-packages/torch/autograd/__init__.py\u001b[0m in \u001b[0;36mbackward\u001b[0;34m(tensors, grad_tensors, retain_graph, create_graph, grad_variables)\u001b[0m\n\u001b[1;32m    128\u001b[0m         \u001b[0mretain_graph\u001b[0m \u001b[0;34m=\u001b[0m \u001b[0mcreate_graph\u001b[0m\u001b[0;34m\u001b[0m\u001b[0;34m\u001b[0m\u001b[0m\n\u001b[1;32m    129\u001b[0m \u001b[0;34m\u001b[0m\u001b[0m\n\u001b[0;32m--> 130\u001b[0;31m     Variable._execution_engine.run_backward(\n\u001b[0m\u001b[1;32m    131\u001b[0m         \u001b[0mtensors\u001b[0m\u001b[0;34m,\u001b[0m \u001b[0mgrad_tensors_\u001b[0m\u001b[0;34m,\u001b[0m \u001b[0mretain_graph\u001b[0m\u001b[0;34m,\u001b[0m \u001b[0mcreate_graph\u001b[0m\u001b[0;34m,\u001b[0m\u001b[0;34m\u001b[0m\u001b[0;34m\u001b[0m\u001b[0m\n\u001b[1;32m    132\u001b[0m         allow_unreachable=True)  # allow_unreachable flag\n",
      "\u001b[0;31mKeyboardInterrupt\u001b[0m: "
     ]
    }
   ],
   "source": [
    "learn.fit(20)"
   ]
  },
  {
   "cell_type": "code",
   "execution_count": null,
   "id": "apart-prince",
   "metadata": {},
   "outputs": [],
   "source": []
  },
  {
   "cell_type": "code",
   "execution_count": null,
   "id": "lesser-rouge",
   "metadata": {},
   "outputs": [],
   "source": []
  },
  {
   "cell_type": "code",
   "execution_count": null,
   "id": "separate-tribe",
   "metadata": {},
   "outputs": [],
   "source": []
  },
  {
   "cell_type": "code",
   "execution_count": null,
   "id": "global-overall",
   "metadata": {},
   "outputs": [],
   "source": []
  }
 ],
 "metadata": {
  "kernelspec": {
   "display_name": "Python 3",
   "language": "python",
   "name": "python3"
  },
  "language_info": {
   "codemirror_mode": {
    "name": "ipython",
    "version": 3
   },
   "file_extension": ".py",
   "mimetype": "text/x-python",
   "name": "python",
   "nbconvert_exporter": "python",
   "pygments_lexer": "ipython3",
   "version": "3.9.5"
  },
  "toc": {
   "base_numbering": 1,
   "nav_menu": {},
   "number_sections": true,
   "sideBar": true,
   "skip_h1_title": false,
   "title_cell": "Table of Contents",
   "title_sidebar": "Contents",
   "toc_cell": false,
   "toc_position": {},
   "toc_section_display": true,
   "toc_window_display": true
  },
  "toc-autonumbering": true,
  "toc-showcode": false,
  "toc-showmarkdowntxt": true,
  "toc-showtags": false,
  "varInspector": {
   "cols": {
    "lenName": 16,
    "lenType": 16,
    "lenVar": 40
   },
   "kernels_config": {
    "python": {
     "delete_cmd_postfix": "",
     "delete_cmd_prefix": "del ",
     "library": "var_list.py",
     "varRefreshCmd": "print(var_dic_list())"
    },
    "r": {
     "delete_cmd_postfix": ") ",
     "delete_cmd_prefix": "rm(",
     "library": "var_list.r",
     "varRefreshCmd": "cat(var_dic_list()) "
    }
   },
   "types_to_exclude": [
    "module",
    "function",
    "builtin_function_or_method",
    "instance",
    "_Feature"
   ],
   "window_display": false
  }
 },
 "nbformat": 4,
 "nbformat_minor": 5
}
